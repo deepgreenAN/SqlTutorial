{
 "cells": [
  {
   "cell_type": "markdown",
   "metadata": {},
   "source": [
    "## sqlite3のチュートリアル "
   ]
  },
  {
   "cell_type": "code",
   "execution_count": 1,
   "metadata": {
    "ExecuteTime": {
     "end_time": "2021-03-25T11:59:47.131803Z",
     "start_time": "2021-03-25T11:59:47.114846Z"
    }
   },
   "outputs": [],
   "source": [
    "import sqlite3\n",
    "from pathlib import Path"
   ]
  },
  {
   "cell_type": "code",
   "execution_count": 2,
   "metadata": {
    "ExecuteTime": {
     "end_time": "2021-03-25T11:59:47.950146Z",
     "start_time": "2021-03-25T11:59:47.143769Z"
    }
   },
   "outputs": [],
   "source": [
    "import numpy as np"
   ]
  },
  {
   "cell_type": "markdown",
   "metadata": {},
   "source": [
    "### データベースへの接続 "
   ]
  },
  {
   "cell_type": "markdown",
   "metadata": {},
   "source": [
    "sqliteデータベースへ接続する．mySQLやMongoDBと違ってデータベース用のプロセスを立てておく必要は無いらしい．"
   ]
  },
  {
   "cell_type": "code",
   "execution_count": 3,
   "metadata": {
    "ExecuteTime": {
     "end_time": "2021-03-25T11:59:48.059854Z",
     "start_time": "2021-03-25T11:59:47.969085Z"
    }
   },
   "outputs": [],
   "source": [
    "db_path = Path(\"sample_db\") / Path(\"my_sample.db\")\n",
    "conn = sqlite3.connect(db_path)\n",
    "c = conn.cursor()"
   ]
  },
  {
   "cell_type": "markdown",
   "metadata": {},
   "source": [
    "### テーブルの作成 "
   ]
  },
  {
   "cell_type": "markdown",
   "metadata": {},
   "source": [
    "カーソルの`execute`メソッドを利用し，sqliteのcreate table文を利用する．テーブル名とカラムの名前と型を定義する．\n",
    "以下では，`users`というテーブルを作成し，そのカラムを`id(integer), name(text)`としている．ここでPRIMARY KEYとは重複を許さないこと"
   ]
  },
  {
   "cell_type": "code",
   "execution_count": 4,
   "metadata": {
    "ExecuteTime": {
     "end_time": "2021-03-25T11:59:48.217418Z",
     "start_time": "2021-03-25T11:59:48.085776Z"
    }
   },
   "outputs": [
    {
     "data": {
      "text/plain": [
       "<sqlite3.Cursor at 0x28fe6c0a110>"
      ]
     },
     "execution_count": 4,
     "metadata": {},
     "output_type": "execute_result"
    }
   ],
   "source": [
    "c.execute(\"create table users (id integer PRIMARY KEY, name text NOT NULL)\")"
   ]
  },
  {
   "cell_type": "markdown",
   "metadata": {},
   "source": [
    "### データのインサート "
   ]
  },
  {
   "cell_type": "markdown",
   "metadata": {},
   "source": [
    "#### 文字列で行う場合 "
   ]
  },
  {
   "cell_type": "code",
   "execution_count": 5,
   "metadata": {
    "ExecuteTime": {
     "end_time": "2021-03-25T11:59:48.297207Z",
     "start_time": "2021-03-25T11:59:48.231381Z"
    }
   },
   "outputs": [],
   "source": [
    "c.execute(\"insert into users(id,name) values(1, 'John')\")\n",
    "conn.commit()"
   ]
  },
  {
   "cell_type": "markdown",
   "metadata": {},
   "source": [
    "valuesの値がテーブルのカラムの数・型と一致する場合，カラム名を省略できる．"
   ]
  },
  {
   "cell_type": "code",
   "execution_count": 6,
   "metadata": {
    "ExecuteTime": {
     "end_time": "2021-03-25T11:59:48.374997Z",
     "start_time": "2021-03-25T11:59:48.314164Z"
    }
   },
   "outputs": [],
   "source": [
    "c.execute(\"insert into users values(2, 'John2')\")\n",
    "conn.commit()"
   ]
  },
  {
   "cell_type": "markdown",
   "metadata": {},
   "source": [
    "カラムのうち幾つかを与える場合は，カラム名をしていする．後で確認するが，自動でidが割り振られている"
   ]
  },
  {
   "cell_type": "code",
   "execution_count": 7,
   "metadata": {
    "ExecuteTime": {
     "end_time": "2021-03-25T11:59:48.468758Z",
     "start_time": "2021-03-25T11:59:48.400932Z"
    }
   },
   "outputs": [],
   "source": [
    "c.execute(\"insert into users(name) values('John3')\")\n",
    "conn.commit()"
   ]
  },
  {
   "cell_type": "markdown",
   "metadata": {},
   "source": [
    "#### プレースホルダ―で行う場合 "
   ]
  },
  {
   "cell_type": "markdown",
   "metadata": {},
   "source": [
    "pythonオブジェクトを渡すことができる．リスト・タプルにしなければいけないことに注意"
   ]
  },
  {
   "cell_type": "code",
   "execution_count": 8,
   "metadata": {
    "ExecuteTime": {
     "end_time": "2021-03-25T11:59:48.532580Z",
     "start_time": "2021-03-25T11:59:48.485704Z"
    }
   },
   "outputs": [],
   "source": [
    "c.execute(\"insert into users values(?,?)\",(4, \"Steve\"))\n",
    "conn.commit()"
   ]
  },
  {
   "cell_type": "markdown",
   "metadata": {},
   "source": [
    "#### 複数データのインサート "
   ]
  },
  {
   "cell_type": "markdown",
   "metadata": {},
   "source": [
    "##### リスト"
   ]
  },
  {
   "cell_type": "markdown",
   "metadata": {},
   "source": [
    "下はタプルのリストであるが，リストのリストでも構わない"
   ]
  },
  {
   "cell_type": "code",
   "execution_count": 9,
   "metadata": {
    "ExecuteTime": {
     "end_time": "2021-03-25T11:59:48.612360Z",
     "start_time": "2021-03-25T11:59:48.548536Z"
    }
   },
   "outputs": [],
   "source": [
    "multi_data = [(5, \"Sato\"),\n",
    "              (6, \"Kato\")]\n",
    "c.executemany(\"insert into users values(?, ?)\",multi_data)\n",
    "conn.commit()"
   ]
  },
  {
   "cell_type": "markdown",
   "metadata": {},
   "source": [
    "#### ndarray "
   ]
  },
  {
   "cell_type": "code",
   "execution_count": 10,
   "metadata": {
    "ExecuteTime": {
     "end_time": "2021-03-25T11:59:48.707109Z",
     "start_time": "2021-03-25T11:59:48.625328Z"
    }
   },
   "outputs": [],
   "source": [
    "multi_data = np.array([[7, \"yamada\"],\n",
    "                       [8, \"hayashi\"]])\n",
    "c.executemany(\"insert into users values(?, ?)\",multi_data)\n",
    "conn.commit()"
   ]
  },
  {
   "cell_type": "markdown",
   "metadata": {},
   "source": [
    "### データの検索"
   ]
  },
  {
   "cell_type": "markdown",
   "metadata": {},
   "source": [
    "#### すべてのデータの取得 "
   ]
  },
  {
   "cell_type": "markdown",
   "metadata": {},
   "source": [
    "アスタリスクは全てのカラムを意味する．"
   ]
  },
  {
   "cell_type": "code",
   "execution_count": 11,
   "metadata": {
    "ExecuteTime": {
     "end_time": "2021-03-25T11:59:48.769950Z",
     "start_time": "2021-03-25T11:59:48.723066Z"
    }
   },
   "outputs": [
    {
     "name": "stdout",
     "output_type": "stream",
     "text": [
      "[(1, 'John'), (2, 'John2'), (3, 'John3'), (4, 'Steve'), (5, 'Sato'), (6, 'Kato'), (7, 'yamada'), (8, 'hayashi')]\n"
     ]
    }
   ],
   "source": [
    "c.execute(\"select * from users\")\n",
    "result = c.fetchall()\n",
    "print(result)"
   ]
  },
  {
   "cell_type": "markdown",
   "metadata": {},
   "source": [
    "#### 特定のカラムの取得 "
   ]
  },
  {
   "cell_type": "code",
   "execution_count": 12,
   "metadata": {
    "ExecuteTime": {
     "end_time": "2021-03-25T11:59:48.831779Z",
     "start_time": "2021-03-25T11:59:48.784904Z"
    }
   },
   "outputs": [
    {
     "name": "stdout",
     "output_type": "stream",
     "text": [
      "[('John',), ('John2',), ('John3',), ('Steve',), ('Sato',), ('Kato',), ('yamada',), ('hayashi',)]\n"
     ]
    }
   ],
   "source": [
    "c.execute(\"select name from users\")\n",
    "result = c.fetchall()\n",
    "print(result)"
   ]
  },
  {
   "cell_type": "code",
   "execution_count": 13,
   "metadata": {
    "ExecuteTime": {
     "end_time": "2021-03-25T11:59:48.911561Z",
     "start_time": "2021-03-25T11:59:48.844741Z"
    }
   },
   "outputs": [
    {
     "name": "stdout",
     "output_type": "stream",
     "text": [
      "[(1,), (2,), (3,), (4,), (5,), (6,), (7,), (8,)]\n"
     ]
    }
   ],
   "source": [
    "c.execute(\"select id from users\")\n",
    "result = c.fetchall()\n",
    "print(result)"
   ]
  },
  {
   "cell_type": "markdown",
   "metadata": {},
   "source": [
    "### 条件を利用したデータの検索"
   ]
  },
  {
   "cell_type": "markdown",
   "metadata": {},
   "source": [
    "パターンマッチングなどの複雑な処理をしない条件検索の場合，where句を用いる"
   ]
  },
  {
   "cell_type": "code",
   "execution_count": 14,
   "metadata": {
    "ExecuteTime": {
     "end_time": "2021-03-25T11:59:49.021270Z",
     "start_time": "2021-03-25T11:59:48.925537Z"
    }
   },
   "outputs": [
    {
     "name": "stdout",
     "output_type": "stream",
     "text": [
      "[(4, 'Steve')]\n"
     ]
    }
   ],
   "source": [
    "c.execute(\"select * from users where name = 'Steve'\")\n",
    "result = c.fetchall()\n",
    "print(result)"
   ]
  },
  {
   "cell_type": "code",
   "execution_count": 15,
   "metadata": {
    "ExecuteTime": {
     "end_time": "2021-03-25T11:59:49.101058Z",
     "start_time": "2021-03-25T11:59:49.040223Z"
    }
   },
   "outputs": [
    {
     "name": "stdout",
     "output_type": "stream",
     "text": [
      "[(4, 'Steve'), (5, 'Sato'), (6, 'Kato'), (7, 'yamada'), (8, 'hayashi')]\n"
     ]
    }
   ],
   "source": [
    "c.execute(\"select * from users where id > 3\")\n",
    "result = c.fetchall()\n",
    "print(result)"
   ]
  },
  {
   "cell_type": "markdown",
   "metadata": {},
   "source": [
    "### 検索データのソート "
   ]
  },
  {
   "cell_type": "markdown",
   "metadata": {},
   "source": [
    "order by句で並べたいカラムの名前を指定する．また昇順の場合はASC, 降順の場合はDESCと指定する．"
   ]
  },
  {
   "cell_type": "code",
   "execution_count": 16,
   "metadata": {
    "ExecuteTime": {
     "end_time": "2021-03-25T11:59:49.164886Z",
     "start_time": "2021-03-25T11:59:49.120012Z"
    }
   },
   "outputs": [
    {
     "name": "stdout",
     "output_type": "stream",
     "text": [
      "[(8, 'hayashi'), (7, 'yamada'), (6, 'Kato'), (5, 'Sato'), (4, 'Steve')]\n"
     ]
    }
   ],
   "source": [
    "c.execute(\"select * from users where id > 3 order by id desc\")\n",
    "result = c.fetchall()\n",
    "print(result)"
   ]
  },
  {
   "cell_type": "markdown",
   "metadata": {},
   "source": [
    "### データの更新 "
   ]
  },
  {
   "cell_type": "markdown",
   "metadata": {},
   "source": [
    "update テーブル名 setとして記述する．これらの句はプレースホルダ―も利用できる．"
   ]
  },
  {
   "cell_type": "code",
   "execution_count": 17,
   "metadata": {
    "ExecuteTime": {
     "end_time": "2021-03-25T11:59:49.370335Z",
     "start_time": "2021-03-25T11:59:49.183839Z"
    }
   },
   "outputs": [
    {
     "name": "stdout",
     "output_type": "stream",
     "text": [
      "[(1, 'John'), (2, 'John2'), (3, 'John3'), (4, 'Steve'), (5, 'Tanaka'), (6, 'Kato'), (7, 'yamada'), (8, 'hayashi')]\n"
     ]
    }
   ],
   "source": [
    "c.execute(\"update users set name = ? where id = ?\", ('Tanaka', 5))\n",
    "conn.commit()\n",
    "\n",
    "c.execute(\"select * from users\")\n",
    "result = c.fetchall()\n",
    "print(result)"
   ]
  },
  {
   "cell_type": "markdown",
   "metadata": {},
   "source": [
    "もし存在しない条件をupdateしたらinsertされない.これでは，executemanyは使えず，さがしてif文で分岐する必要がでてきてしまう．"
   ]
  },
  {
   "cell_type": "code",
   "execution_count": 18,
   "metadata": {
    "ExecuteTime": {
     "end_time": "2021-03-25T11:59:49.495001Z",
     "start_time": "2021-03-25T11:59:49.384301Z"
    }
   },
   "outputs": [
    {
     "name": "stdout",
     "output_type": "stream",
     "text": [
      "[(1, 'John'), (2, 'John2'), (3, 'John3'), (4, 'Steve'), (5, 'Tanaka'), (6, 'Kato'), (7, 'Ueda'), (8, 'hayashi')]\n"
     ]
    }
   ],
   "source": [
    "c.execute(\"update users set name = ? where id = ?\", ('Ueda', 7))\n",
    "conn.commit()\n",
    "\n",
    "c.execute(\"select * from users\")\n",
    "result = c.fetchall()\n",
    "print(result)"
   ]
  },
  {
   "cell_type": "markdown",
   "metadata": {},
   "source": [
    "よってupsertは以下のように行う.[参考](https://qastack.jp/programming/15277373/sqlite-upsert-update-or-insert)"
   ]
  },
  {
   "cell_type": "code",
   "execution_count": 19,
   "metadata": {
    "ExecuteTime": {
     "end_time": "2021-03-25T11:59:49.605712Z",
     "start_time": "2021-03-25T11:59:49.522936Z"
    }
   },
   "outputs": [
    {
     "name": "stdout",
     "output_type": "stream",
     "text": [
      "[(1, 'John'), (2, 'John2'), (3, 'John3'), (4, 'Steve'), (5, 'Tanaka'), (6, 'Kato'), (7, 'Ueda'), (8, 'hayashi'), (9, 'Ueda')]\n"
     ]
    }
   ],
   "source": [
    "sql = \"\"\"\n",
    "insert into users (id, name)\n",
    "  values(?, ?)\n",
    "  on conflict(id)\n",
    "  do update set name=excluded.name\n",
    "\"\"\"\n",
    "c.execute(sql,[9,'Ueda'])\n",
    "conn.commit()\n",
    "\n",
    "c.execute(\"select * from users\")\n",
    "result = c.fetchall()\n",
    "print(result)"
   ]
  },
  {
   "cell_type": "markdown",
   "metadata": {},
   "source": [
    "### データの削除 "
   ]
  },
  {
   "cell_type": "markdown",
   "metadata": {},
   "source": [
    "delete句を利用する．プレースホルダーはリスト・タプルでなければいけないことに注意．"
   ]
  },
  {
   "cell_type": "code",
   "execution_count": 20,
   "metadata": {
    "ExecuteTime": {
     "end_time": "2021-03-25T11:59:49.667543Z",
     "start_time": "2021-03-25T11:59:49.615679Z"
    }
   },
   "outputs": [
    {
     "name": "stdout",
     "output_type": "stream",
     "text": [
      "[(1, 'John'), (2, 'John2'), (4, 'Steve'), (5, 'Tanaka'), (6, 'Kato'), (7, 'Ueda'), (8, 'hayashi'), (9, 'Ueda')]\n"
     ]
    }
   ],
   "source": [
    "c.execute(\"delete from users where id = ?\",(3,))\n",
    "conn.commit()\n",
    "\n",
    "c.execute(\"select * from users\")\n",
    "result = c.fetchall()\n",
    "print(result)"
   ]
  },
  {
   "cell_type": "markdown",
   "metadata": {},
   "source": [
    "### カラムの追加 "
   ]
  },
  {
   "cell_type": "markdown",
   "metadata": {},
   "source": [
    "alter table テーブル名 add column カラム名　データ型　とする．もちろんNullデータになるので使えない制約もある．"
   ]
  },
  {
   "cell_type": "code",
   "execution_count": 21,
   "metadata": {
    "ExecuteTime": {
     "end_time": "2021-03-25T11:59:49.779245Z",
     "start_time": "2021-03-25T11:59:49.689487Z"
    }
   },
   "outputs": [
    {
     "data": {
      "text/plain": [
       "<sqlite3.Cursor at 0x28fe6c0a110>"
      ]
     },
     "execution_count": 21,
     "metadata": {},
     "output_type": "execute_result"
    }
   ],
   "source": [
    "c.execute(\"alter table users add column year integer\")"
   ]
  },
  {
   "cell_type": "code",
   "execution_count": 22,
   "metadata": {
    "ExecuteTime": {
     "end_time": "2021-03-25T11:59:49.874984Z",
     "start_time": "2021-03-25T11:59:49.792211Z"
    }
   },
   "outputs": [
    {
     "name": "stdout",
     "output_type": "stream",
     "text": [
      "[(1, 'John', None), (2, 'John2', None), (4, 'Steve', None), (5, 'Tanaka', 17), (6, 'Kato', None), (7, 'Ueda', None), (8, 'hayashi', None), (9, 'Ueda', None)]\n"
     ]
    }
   ],
   "source": [
    "c.execute(\"update users set year = 17 where id = 5\")\n",
    "conn.commit()\n",
    "\n",
    "c.execute(\"select * from users\")\n",
    "result = c.fetchall()\n",
    "print(result)"
   ]
  },
  {
   "cell_type": "markdown",
   "metadata": {},
   "source": [
    "### カラム構造の取得"
   ]
  },
  {
   "cell_type": "markdown",
   "metadata": {},
   "source": [
    "おそらく二つ目がカラム名で，三つ目が型．詳しくは[こちら](https://ez-net.jp/article/57/MdNBzKNC/b7Qzbu0oeix0/)"
   ]
  },
  {
   "cell_type": "code",
   "execution_count": 23,
   "metadata": {
    "ExecuteTime": {
     "end_time": "2021-03-25T11:59:49.952794Z",
     "start_time": "2021-03-25T11:59:49.887950Z"
    }
   },
   "outputs": [
    {
     "name": "stdout",
     "output_type": "stream",
     "text": [
      "[(0, 'id', 'integer', 0, None, 1), (1, 'name', 'text', 1, None, 0), (2, 'year', 'integer', 0, None, 0)]\n"
     ]
    }
   ],
   "source": [
    "c.execute(\"pragma table_info('users')\")\n",
    "col_list = c.fetchall()\n",
    "print(col_list)"
   ]
  },
  {
   "cell_type": "markdown",
   "metadata": {},
   "source": [
    "### テーブル構造の取得 "
   ]
  },
  {
   "cell_type": "markdown",
   "metadata": {},
   "source": [
    "二つ目がtableのnameで三つ目がtablenameらしい．違いは?"
   ]
  },
  {
   "cell_type": "code",
   "execution_count": 24,
   "metadata": {
    "ExecuteTime": {
     "end_time": "2021-03-25T11:59:50.208094Z",
     "start_time": "2021-03-25T11:59:49.985711Z"
    }
   },
   "outputs": [
    {
     "name": "stdout",
     "output_type": "stream",
     "text": [
      "[('table', 'users', 'users', 3, 'CREATE TABLE users (id integer PRIMARY KEY, name text NOT NULL, year integer)'), ('table', 'users2', 'users2', 2, 'CREATE TABLE users2 (id integer)')]\n"
     ]
    }
   ],
   "source": [
    "c.execute(\"create table users2 (id integer)\")\n",
    "c.execute(\"select * from sqlite_master\")\n",
    "table_list = c.fetchall()\n",
    "print(table_list)"
   ]
  },
  {
   "cell_type": "markdown",
   "metadata": {},
   "source": [
    "### テーブルの消去 "
   ]
  },
  {
   "cell_type": "code",
   "execution_count": 25,
   "metadata": {
    "ExecuteTime": {
     "end_time": "2021-03-25T11:59:50.332768Z",
     "start_time": "2021-03-25T11:59:50.223054Z"
    }
   },
   "outputs": [
    {
     "data": {
      "text/plain": [
       "<sqlite3.Cursor at 0x28fe6c0a110>"
      ]
     },
     "execution_count": 25,
     "metadata": {},
     "output_type": "execute_result"
    }
   ],
   "source": [
    "c.execute(\"drop table users\")\n",
    "c.execute(\"drop table users2\")"
   ]
  },
  {
   "cell_type": "markdown",
   "metadata": {},
   "source": [
    "### データベースのクローズ "
   ]
  },
  {
   "cell_type": "code",
   "execution_count": 26,
   "metadata": {
    "ExecuteTime": {
     "end_time": "2021-03-25T11:59:50.363680Z",
     "start_time": "2021-03-25T11:59:50.340741Z"
    }
   },
   "outputs": [],
   "source": [
    "conn.close()"
   ]
  }
 ],
 "metadata": {
  "kernelspec": {
   "display_name": "torch_py37",
   "language": "python",
   "name": "torch_py37"
  },
  "language_info": {
   "codemirror_mode": {
    "name": "ipython",
    "version": 3
   },
   "file_extension": ".py",
   "mimetype": "text/x-python",
   "name": "python",
   "nbconvert_exporter": "python",
   "pygments_lexer": "ipython3",
   "version": "3.7.4"
  },
  "toc": {
   "base_numbering": 1,
   "nav_menu": {},
   "number_sections": true,
   "sideBar": true,
   "skip_h1_title": false,
   "title_cell": "Table of Contents",
   "title_sidebar": "Contents",
   "toc_cell": false,
   "toc_position": {},
   "toc_section_display": true,
   "toc_window_display": false
  }
 },
 "nbformat": 4,
 "nbformat_minor": 4
}
