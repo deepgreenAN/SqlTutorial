{
 "cells": [
  {
   "cell_type": "markdown",
   "metadata": {},
   "source": [
    "## 株価データベースの作成のためのチュートリアル"
   ]
  },
  {
   "cell_type": "code",
   "execution_count": 1,
   "metadata": {
    "ExecuteTime": {
     "end_time": "2020-11-03T10:18:03.412684Z",
     "start_time": "2020-11-03T10:18:00.184320Z"
    }
   },
   "outputs": [],
   "source": [
    "import pandas as pd\n",
    "from pathlib import Path\n",
    "import sqlite3\n",
    "import numpy as np"
   ]
  },
  {
   "cell_type": "code",
   "execution_count": 2,
   "metadata": {
    "ExecuteTime": {
     "end_time": "2020-11-03T10:18:03.434627Z",
     "start_time": "2020-11-03T10:18:03.421660Z"
    }
   },
   "outputs": [],
   "source": [
    "import datetime"
   ]
  },
  {
   "cell_type": "markdown",
   "metadata": {},
   "source": [
    "### datatimeデータのsqliteへの利用 "
   ]
  },
  {
   "cell_type": "markdown",
   "metadata": {},
   "source": [
    "connect関数の引数におまじないを与える．これでsqliteの型としてtimestampとするだけで，datetimeを文字列に変換，逆変換してくれる．"
   ]
  },
  {
   "cell_type": "code",
   "execution_count": 3,
   "metadata": {
    "ExecuteTime": {
     "end_time": "2020-11-03T10:18:04.208555Z",
     "start_time": "2020-11-03T10:18:04.162680Z"
    }
   },
   "outputs": [],
   "source": [
    "db_path = Path(\"pandas_db\") / Path(\"pandas.db\")\n",
    "conn = sqlite3.connect(db_path,\n",
    "                       detect_types=sqlite3.PARSE_DECLTYPES|sqlite3.PARSE_COLNAMES\n",
    "                      )"
   ]
  },
  {
   "cell_type": "markdown",
   "metadata": {},
   "source": [
    "timestamp型を利用する．一応ユニーク制約をつけておく"
   ]
  },
  {
   "cell_type": "code",
   "execution_count": 8,
   "metadata": {
    "ExecuteTime": {
     "end_time": "2020-11-03T10:18:32.238579Z",
     "start_time": "2020-11-03T10:18:32.189705Z"
    }
   },
   "outputs": [
    {
     "data": {
      "text/plain": [
       "<sqlite3.Cursor at 0x249d02f8f80>"
      ]
     },
     "execution_count": 8,
     "metadata": {},
     "output_type": "execute_result"
    }
   ],
   "source": [
    "c = conn.cursor()\n",
    "c.execute(\"create table time_table(timestamp timestamp unique, temperature real)\")"
   ]
  },
  {
   "cell_type": "code",
   "execution_count": 9,
   "metadata": {
    "ExecuteTime": {
     "end_time": "2020-11-03T10:18:38.733252Z",
     "start_time": "2020-11-03T10:18:38.683335Z"
    }
   },
   "outputs": [],
   "source": [
    "time_data_list = [[\"2020-10-22 06:28:00\",12.5],\n",
    "                  [datetime.datetime(2020, 10, 22, 6, 29, 00), 13],\n",
    "                  [datetime.datetime(2020, 10, 23, 0, 00, 00), 14]\n",
    "                 ]\n",
    "\n",
    "c.executemany(\"insert into time_table (timestamp,temperature) values(?,?)\",\n",
    "              time_data_list)\n",
    "\n",
    "conn.commit()"
   ]
  },
  {
   "cell_type": "markdown",
   "metadata": {},
   "source": [
    "日時で降順ソートしてみる"
   ]
  },
  {
   "cell_type": "code",
   "execution_count": 10,
   "metadata": {
    "ExecuteTime": {
     "end_time": "2020-11-03T10:18:46.012724Z",
     "start_time": "2020-11-03T10:18:45.977819Z"
    }
   },
   "outputs": [
    {
     "name": "stdout",
     "output_type": "stream",
     "text": [
      "[(datetime.datetime(2020, 10, 23, 0, 0), 14.0), (datetime.datetime(2020, 10, 22, 6, 29), 13.0), (datetime.datetime(2020, 10, 22, 6, 28), 12.5)]\n"
     ]
    }
   ],
   "source": [
    "c.execute(\"select * from time_table order by timestamp desc\")\n",
    "result = c.fetchall()\n",
    "print(result)"
   ]
  },
  {
   "cell_type": "code",
   "execution_count": 11,
   "metadata": {
    "ExecuteTime": {
     "end_time": "2020-11-03T10:19:11.352941Z",
     "start_time": "2020-11-03T10:19:11.337978Z"
    }
   },
   "outputs": [
    {
     "name": "stdout",
     "output_type": "stream",
     "text": [
      "<class 'datetime.datetime'>\n"
     ]
    }
   ],
   "source": [
    "print(type(result[0][0]))"
   ]
  },
  {
   "cell_type": "markdown",
   "metadata": {},
   "source": [
    "datetimeになっている"
   ]
  },
  {
   "cell_type": "markdown",
   "metadata": {},
   "source": [
    "ちゃんと同じ時間にinsertするとエラーが出てくる．"
   ]
  },
  {
   "cell_type": "code",
   "execution_count": 12,
   "metadata": {
    "ExecuteTime": {
     "end_time": "2020-11-03T10:19:24.994451Z",
     "start_time": "2020-11-03T10:19:24.950562Z"
    }
   },
   "outputs": [
    {
     "ename": "IntegrityError",
     "evalue": "UNIQUE constraint failed: time_table.timestamp",
     "output_type": "error",
     "traceback": [
      "\u001b[1;31m---------------------------------------------------------------------------\u001b[0m",
      "\u001b[1;31mIntegrityError\u001b[0m                            Traceback (most recent call last)",
      "\u001b[1;32m<ipython-input-12-dcba4539cb9e>\u001b[0m in \u001b[0;36m<module>\u001b[1;34m\u001b[0m\n\u001b[0;32m      1\u001b[0m c.execute(\"insert into time_table (timestamp,temperature) values(?,?)\", \n\u001b[1;32m----> 2\u001b[1;33m           [datetime.datetime(2020, 10, 22, 6, 29, 00), 14])\n\u001b[0m",
      "\u001b[1;31mIntegrityError\u001b[0m: UNIQUE constraint failed: time_table.timestamp"
     ]
    }
   ],
   "source": [
    "c.execute(\"insert into time_table (timestamp,temperature) values(?,?)\", \n",
    "          [datetime.datetime(2020, 10, 22, 6, 29, 00), 14])"
   ]
  },
  {
   "cell_type": "markdown",
   "metadata": {},
   "source": [
    "期間指定による取り出しは，とりあえず文字列で行う方法しかわからなかった"
   ]
  },
  {
   "cell_type": "code",
   "execution_count": 35,
   "metadata": {
    "ExecuteTime": {
     "end_time": "2020-10-22T05:55:34.701170Z",
     "start_time": "2020-10-22T05:55:34.685212Z"
    }
   },
   "outputs": [
    {
     "name": "stdout",
     "output_type": "stream",
     "text": [
      "[(datetime.datetime(2020, 10, 22, 6, 28), 12.5), (datetime.datetime(2020, 10, 22, 6, 29), 13.0)]\n"
     ]
    }
   ],
   "source": [
    "c.execute(\"select * from time_table where ? <= timestamp and timestamp <= ?\",\n",
    "          [\"2020-10-22 00:00:00\", \"2020-10-22 23:59:59\"])\n",
    "result = c.fetchall()\n",
    "print(result)"
   ]
  },
  {
   "cell_type": "markdown",
   "metadata": {},
   "source": [
    "betweenをつかったり，指定にdatetimeを使ってもよい"
   ]
  },
  {
   "cell_type": "code",
   "execution_count": 34,
   "metadata": {
    "ExecuteTime": {
     "end_time": "2020-10-22T05:54:17.906560Z",
     "start_time": "2020-10-22T05:54:17.879630Z"
    }
   },
   "outputs": [
    {
     "name": "stdout",
     "output_type": "stream",
     "text": [
      "[(datetime.datetime(2020, 10, 22, 6, 28), 12.5), (datetime.datetime(2020, 10, 22, 6, 29), 13.0)]\n"
     ]
    }
   ],
   "source": [
    "c.execute(\"select * from time_table where timestamp between ? and ?\",\n",
    "          [datetime.datetime(2020,10,22,0,0,0), datetime.datetime(2020,10,22,23,59,59)]\n",
    "         )\n",
    "result = c.fetchall()\n",
    "print(result)"
   ]
  },
  {
   "cell_type": "code",
   "execution_count": 14,
   "metadata": {
    "ExecuteTime": {
     "end_time": "2020-11-03T10:28:40.434588Z",
     "start_time": "2020-11-03T10:28:40.416638Z"
    }
   },
   "outputs": [
    {
     "name": "stdout",
     "output_type": "stream",
     "text": [
      "2020-10-23 00:00:00\n"
     ]
    }
   ],
   "source": [
    "c.execute(\"select max(timestamp) from time_table\")\n",
    "result = c.fetchone()\n",
    "str_datetime = result[0]\n",
    "print(str_datetime)"
   ]
  },
  {
   "cell_type": "markdown",
   "metadata": {},
   "source": [
    "なぜかmaxやminなどの関数を通すと文字列で返ってくる．"
   ]
  },
  {
   "cell_type": "code",
   "execution_count": null,
   "metadata": {},
   "outputs": [],
   "source": []
  },
  {
   "cell_type": "markdown",
   "metadata": {},
   "source": [
    "### pandasによるto_sqlite"
   ]
  },
  {
   "cell_type": "markdown",
   "metadata": {},
   "source": [
    "#### 通常のインデックスの場合"
   ]
  },
  {
   "cell_type": "code",
   "execution_count": 11,
   "metadata": {
    "ExecuteTime": {
     "end_time": "2020-10-22T05:23:21.943794Z",
     "start_time": "2020-10-22T05:23:21.915867Z"
    }
   },
   "outputs": [
    {
     "data": {
      "text/plain": [
       "<sqlite3.Cursor at 0x1bfc09a60a0>"
      ]
     },
     "execution_count": 11,
     "metadata": {},
     "output_type": "execute_result"
    }
   ],
   "source": [
    "c.execute(\"create table time_table_pandas(timestamp timestamp unique, temperature real)\") "
   ]
  },
  {
   "cell_type": "code",
   "execution_count": 12,
   "metadata": {
    "ExecuteTime": {
     "end_time": "2020-10-22T05:23:23.040860Z",
     "start_time": "2020-10-22T05:23:23.006949Z"
    }
   },
   "outputs": [],
   "source": [
    "time_temperature = [[datetime.datetime(2020, 10, 22, 12, 30, 00), 13.5],\n",
    "                    [datetime.datetime(2020, 10, 22, 12, 31, 00), 14.0],\n",
    "                    [datetime.datetime(2020, 10, 22, 12, 32, 00), 12.0]]\n",
    "\n",
    "time_temperature = np.array(time_temperature)\n",
    "df = pd.DataFrame(time_temperature, columns=[\"timestamp\", \"temperature\"])"
   ]
  },
  {
   "cell_type": "code",
   "execution_count": 13,
   "metadata": {
    "ExecuteTime": {
     "end_time": "2020-10-22T05:23:23.845712Z",
     "start_time": "2020-10-22T05:23:23.755944Z"
    }
   },
   "outputs": [],
   "source": [
    "df.to_sql(\"time_table_pandas\", \n",
    "          con=conn, \n",
    "          if_exists=\"replace\",\n",
    "          dtype={\"timestamp\":\"timestamp\", \"temperature\":\"real\"},\n",
    "         )"
   ]
  },
  {
   "cell_type": "markdown",
   "metadata": {},
   "source": [
    "うまくいっているが，もちろんインデックスも返ってくる. インデックスを指定したくないときは`index=False`とする"
   ]
  },
  {
   "cell_type": "code",
   "execution_count": 14,
   "metadata": {
    "ExecuteTime": {
     "end_time": "2020-10-22T05:23:30.575704Z",
     "start_time": "2020-10-22T05:23:30.554762Z"
    }
   },
   "outputs": [
    {
     "name": "stdout",
     "output_type": "stream",
     "text": [
      "[(0, datetime.datetime(2020, 10, 22, 12, 30), 13.5), (1, datetime.datetime(2020, 10, 22, 12, 31), 14.0), (2, datetime.datetime(2020, 10, 22, 12, 32), 12.0)]\n"
     ]
    }
   ],
   "source": [
    "c.execute(\"select * from time_table_pandas\")\n",
    "result = c.fetchall()\n",
    "print(result)"
   ]
  },
  {
   "cell_type": "markdown",
   "metadata": {},
   "source": [
    "#### 時系列インデックスの場合"
   ]
  },
  {
   "cell_type": "code",
   "execution_count": 16,
   "metadata": {
    "ExecuteTime": {
     "end_time": "2020-10-22T05:23:44.354855Z",
     "start_time": "2020-10-22T05:23:44.308981Z"
    }
   },
   "outputs": [
    {
     "data": {
      "text/plain": [
       "<sqlite3.Cursor at 0x1bfc09a60a0>"
      ]
     },
     "execution_count": 16,
     "metadata": {},
     "output_type": "execute_result"
    }
   ],
   "source": [
    "c.execute(\"create table time_index_table_pandas(timestamp timestamp unique, temperature real)\") "
   ]
  },
  {
   "cell_type": "code",
   "execution_count": 17,
   "metadata": {
    "ExecuteTime": {
     "end_time": "2020-10-22T05:23:45.131777Z",
     "start_time": "2020-10-22T05:23:45.111829Z"
    }
   },
   "outputs": [],
   "source": [
    "timestamp_df = pd.DataFrame(time_temperature[:,1],columns=[\"temperature\"])\n",
    "timestamp_df.index = pd.DatetimeIndex(time_temperature[:,0])"
   ]
  },
  {
   "cell_type": "code",
   "execution_count": 18,
   "metadata": {
    "ExecuteTime": {
     "end_time": "2020-10-22T05:23:45.776093Z",
     "start_time": "2020-10-22T05:23:45.630443Z"
    }
   },
   "outputs": [],
   "source": [
    "timestamp_df.to_sql(\"time_index_table_pandas\", \n",
    "                    con=conn, \n",
    "                    if_exists=\"replace\",\n",
    "                    dtype={\"temperature\":\"real\"},\n",
    "                    index=True,\n",
    "                    index_label=\"timestamp\"\n",
    "                    )"
   ]
  },
  {
   "cell_type": "markdown",
   "metadata": {},
   "source": [
    "インデックスの型指定は無い，これはpandas側の型指定と対応しているから?index_labelにはindexのcolumn名を指定する．"
   ]
  },
  {
   "cell_type": "code",
   "execution_count": 19,
   "metadata": {
    "ExecuteTime": {
     "end_time": "2020-10-22T05:23:46.715540Z",
     "start_time": "2020-10-22T05:23:46.695591Z"
    }
   },
   "outputs": [
    {
     "name": "stdout",
     "output_type": "stream",
     "text": [
      "[(datetime.datetime(2020, 10, 22, 12, 30), 13.5), (datetime.datetime(2020, 10, 22, 12, 31), 14.0), (datetime.datetime(2020, 10, 22, 12, 32), 12.0)]\n"
     ]
    }
   ],
   "source": [
    "c.execute(\"select * from time_index_table_pandas\")\n",
    "result = c.fetchall()\n",
    "print(result)"
   ]
  },
  {
   "cell_type": "markdown",
   "metadata": {},
   "source": [
    "つまり，時系列インデックスの場合は普通のインデックスに直して`index=False`とするか，`to_sql`でインデックスに名前を指定すればよい"
   ]
  },
  {
   "cell_type": "markdown",
   "metadata": {},
   "source": [
    "### pandasのsqliteの直接読み込み"
   ]
  },
  {
   "cell_type": "markdown",
   "metadata": {},
   "source": [
    "クエリのfetchallで返ってきたリストをpandasに与えればよいのであまり必要性を感じないが直接読み込む関数が存在する．`read_sql_query`と`read_sql`の違いは？"
   ]
  },
  {
   "cell_type": "code",
   "execution_count": 26,
   "metadata": {
    "ExecuteTime": {
     "end_time": "2020-10-22T05:33:53.325607Z",
     "start_time": "2020-10-22T05:33:53.302672Z"
    }
   },
   "outputs": [],
   "source": [
    "query_df = pd.read_sql_query(\"select * from time_index_table_pandas where temperature = ?\",\n",
    "                             con=conn,\n",
    "                             index_col=\"timestamp\",\n",
    "                             params=[13.5,]\n",
    "                            )"
   ]
  },
  {
   "cell_type": "code",
   "execution_count": 28,
   "metadata": {
    "ExecuteTime": {
     "end_time": "2020-10-22T05:36:33.616903Z",
     "start_time": "2020-10-22T05:36:33.582995Z"
    }
   },
   "outputs": [
    {
     "data": {
      "text/html": [
       "<div>\n",
       "<style scoped>\n",
       "    .dataframe tbody tr th:only-of-type {\n",
       "        vertical-align: middle;\n",
       "    }\n",
       "\n",
       "    .dataframe tbody tr th {\n",
       "        vertical-align: top;\n",
       "    }\n",
       "\n",
       "    .dataframe thead th {\n",
       "        text-align: right;\n",
       "    }\n",
       "</style>\n",
       "<table border=\"1\" class=\"dataframe\">\n",
       "  <thead>\n",
       "    <tr style=\"text-align: right;\">\n",
       "      <th></th>\n",
       "      <th>temperature</th>\n",
       "    </tr>\n",
       "    <tr>\n",
       "      <th>timestamp</th>\n",
       "      <th></th>\n",
       "    </tr>\n",
       "  </thead>\n",
       "  <tbody>\n",
       "    <tr>\n",
       "      <th>2020-10-22 12:30:00</th>\n",
       "      <td>13.5</td>\n",
       "    </tr>\n",
       "  </tbody>\n",
       "</table>\n",
       "</div>"
      ],
      "text/plain": [
       "                     temperature\n",
       "timestamp                       \n",
       "2020-10-22 12:30:00         13.5"
      ]
     },
     "execution_count": 28,
     "metadata": {},
     "output_type": "execute_result"
    }
   ],
   "source": [
    "query_df"
   ]
  },
  {
   "cell_type": "markdown",
   "metadata": {},
   "source": [
    "### テーブルの削除 "
   ]
  },
  {
   "cell_type": "code",
   "execution_count": 5,
   "metadata": {
    "ExecuteTime": {
     "end_time": "2020-11-03T10:18:21.483345Z",
     "start_time": "2020-11-03T10:18:21.390596Z"
    }
   },
   "outputs": [
    {
     "data": {
      "text/plain": [
       "<sqlite3.Cursor at 0x249d02298f0>"
      ]
     },
     "execution_count": 5,
     "metadata": {},
     "output_type": "execute_result"
    }
   ],
   "source": [
    "c.execute(\"drop table time_table\")"
   ]
  },
  {
   "cell_type": "code",
   "execution_count": 6,
   "metadata": {
    "ExecuteTime": {
     "end_time": "2020-11-03T10:18:23.315443Z",
     "start_time": "2020-11-03T10:18:23.269569Z"
    }
   },
   "outputs": [
    {
     "data": {
      "text/plain": [
       "<sqlite3.Cursor at 0x249d02298f0>"
      ]
     },
     "execution_count": 6,
     "metadata": {},
     "output_type": "execute_result"
    }
   ],
   "source": [
    "c.execute(\"drop table time_table_pandas\")"
   ]
  },
  {
   "cell_type": "code",
   "execution_count": 7,
   "metadata": {
    "ExecuteTime": {
     "end_time": "2020-11-03T10:18:24.069426Z",
     "start_time": "2020-11-03T10:18:24.024549Z"
    }
   },
   "outputs": [
    {
     "data": {
      "text/plain": [
       "<sqlite3.Cursor at 0x249d02298f0>"
      ]
     },
     "execution_count": 7,
     "metadata": {},
     "output_type": "execute_result"
    }
   ],
   "source": [
    "c.execute(\"drop table time_index_table_pandas\")"
   ]
  },
  {
   "cell_type": "markdown",
   "metadata": {},
   "source": [
    "###  データベースのクローズ"
   ]
  },
  {
   "cell_type": "code",
   "execution_count": 36,
   "metadata": {
    "ExecuteTime": {
     "end_time": "2020-10-22T05:55:56.771140Z",
     "start_time": "2020-10-22T05:55:56.746209Z"
    }
   },
   "outputs": [],
   "source": [
    "conn.close()"
   ]
  }
 ],
 "metadata": {
  "kernelspec": {
   "display_name": "torch_py37",
   "language": "python",
   "name": "torch_py37"
  },
  "language_info": {
   "codemirror_mode": {
    "name": "ipython",
    "version": 3
   },
   "file_extension": ".py",
   "mimetype": "text/x-python",
   "name": "python",
   "nbconvert_exporter": "python",
   "pygments_lexer": "ipython3",
   "version": "3.7.4"
  },
  "toc": {
   "base_numbering": 1,
   "nav_menu": {},
   "number_sections": true,
   "sideBar": true,
   "skip_h1_title": false,
   "title_cell": "Table of Contents",
   "title_sidebar": "Contents",
   "toc_cell": false,
   "toc_position": {},
   "toc_section_display": true,
   "toc_window_display": false
  }
 },
 "nbformat": 4,
 "nbformat_minor": 4
}
